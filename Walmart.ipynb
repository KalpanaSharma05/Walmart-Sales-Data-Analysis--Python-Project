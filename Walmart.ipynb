{
 "cells": [
  {
   "cell_type": "code",
   "execution_count": 113,
   "id": "3af2fd98-c4b4-497c-ae4b-00f440318317",
   "metadata": {},
   "outputs": [],
   "source": [
    "import pandas as pd\n",
    "import numpy as np\n",
    "import matplotlib.pyplot as plt\n",
    "import seaborn as sns"
   ]
  },
  {
   "cell_type": "code",
   "execution_count": 114,
   "id": "0300b77a-09b9-4421-b794-46e5eb1fd33e",
   "metadata": {},
   "outputs": [
    {
     "data": {
      "text/html": [
       "<div>\n",
       "<style scoped>\n",
       "    .dataframe tbody tr th:only-of-type {\n",
       "        vertical-align: middle;\n",
       "    }\n",
       "\n",
       "    .dataframe tbody tr th {\n",
       "        vertical-align: top;\n",
       "    }\n",
       "\n",
       "    .dataframe thead th {\n",
       "        text-align: right;\n",
       "    }\n",
       "</style>\n",
       "<table border=\"1\" class=\"dataframe\">\n",
       "  <thead>\n",
       "    <tr style=\"text-align: right;\">\n",
       "      <th></th>\n",
       "      <th>Invoice ID</th>\n",
       "      <th>Branch</th>\n",
       "      <th>City</th>\n",
       "      <th>Customer type</th>\n",
       "      <th>Gender</th>\n",
       "      <th>Product line</th>\n",
       "      <th>Unit price</th>\n",
       "      <th>Quantity</th>\n",
       "      <th>Tax 5%</th>\n",
       "      <th>Total</th>\n",
       "      <th>Date</th>\n",
       "      <th>Time</th>\n",
       "      <th>Payment</th>\n",
       "      <th>cogs</th>\n",
       "      <th>gross margin percentage</th>\n",
       "      <th>gross income</th>\n",
       "      <th>Rating</th>\n",
       "    </tr>\n",
       "  </thead>\n",
       "  <tbody>\n",
       "    <tr>\n",
       "      <th>0</th>\n",
       "      <td>750-67-8428</td>\n",
       "      <td>A</td>\n",
       "      <td>Yangon</td>\n",
       "      <td>Member</td>\n",
       "      <td>Female</td>\n",
       "      <td>Health and beauty</td>\n",
       "      <td>74.69</td>\n",
       "      <td>7</td>\n",
       "      <td>26.1415</td>\n",
       "      <td>548.9715</td>\n",
       "      <td>2019-01-05</td>\n",
       "      <td>13:08:00</td>\n",
       "      <td>Ewallet</td>\n",
       "      <td>522.83</td>\n",
       "      <td>4.761905</td>\n",
       "      <td>26.1415</td>\n",
       "      <td>9.1</td>\n",
       "    </tr>\n",
       "    <tr>\n",
       "      <th>1</th>\n",
       "      <td>226-31-3081</td>\n",
       "      <td>C</td>\n",
       "      <td>Naypyitaw</td>\n",
       "      <td>Normal</td>\n",
       "      <td>Female</td>\n",
       "      <td>Electronic accessories</td>\n",
       "      <td>15.28</td>\n",
       "      <td>5</td>\n",
       "      <td>3.8200</td>\n",
       "      <td>80.2200</td>\n",
       "      <td>2019-03-08</td>\n",
       "      <td>10:29:00</td>\n",
       "      <td>Cash</td>\n",
       "      <td>76.40</td>\n",
       "      <td>4.761905</td>\n",
       "      <td>3.8200</td>\n",
       "      <td>9.6</td>\n",
       "    </tr>\n",
       "    <tr>\n",
       "      <th>2</th>\n",
       "      <td>631-41-3108</td>\n",
       "      <td>A</td>\n",
       "      <td>Yangon</td>\n",
       "      <td>Normal</td>\n",
       "      <td>Male</td>\n",
       "      <td>Home and lifestyle</td>\n",
       "      <td>46.33</td>\n",
       "      <td>7</td>\n",
       "      <td>16.2155</td>\n",
       "      <td>340.5255</td>\n",
       "      <td>2019-03-03</td>\n",
       "      <td>13:23:00</td>\n",
       "      <td>Credit card</td>\n",
       "      <td>324.31</td>\n",
       "      <td>4.761905</td>\n",
       "      <td>16.2155</td>\n",
       "      <td>7.4</td>\n",
       "    </tr>\n",
       "    <tr>\n",
       "      <th>3</th>\n",
       "      <td>123-19-1176</td>\n",
       "      <td>A</td>\n",
       "      <td>Yangon</td>\n",
       "      <td>Member</td>\n",
       "      <td>Male</td>\n",
       "      <td>Health and beauty</td>\n",
       "      <td>58.22</td>\n",
       "      <td>8</td>\n",
       "      <td>23.2880</td>\n",
       "      <td>489.0480</td>\n",
       "      <td>2019-01-27</td>\n",
       "      <td>20:33:00</td>\n",
       "      <td>Ewallet</td>\n",
       "      <td>465.76</td>\n",
       "      <td>4.761905</td>\n",
       "      <td>23.2880</td>\n",
       "      <td>8.4</td>\n",
       "    </tr>\n",
       "    <tr>\n",
       "      <th>4</th>\n",
       "      <td>373-73-7910</td>\n",
       "      <td>A</td>\n",
       "      <td>Yangon</td>\n",
       "      <td>Normal</td>\n",
       "      <td>Male</td>\n",
       "      <td>Sports and travel</td>\n",
       "      <td>86.31</td>\n",
       "      <td>7</td>\n",
       "      <td>30.2085</td>\n",
       "      <td>634.3785</td>\n",
       "      <td>2019-02-08</td>\n",
       "      <td>10:37:00</td>\n",
       "      <td>Ewallet</td>\n",
       "      <td>604.17</td>\n",
       "      <td>4.761905</td>\n",
       "      <td>30.2085</td>\n",
       "      <td>5.3</td>\n",
       "    </tr>\n",
       "    <tr>\n",
       "      <th>...</th>\n",
       "      <td>...</td>\n",
       "      <td>...</td>\n",
       "      <td>...</td>\n",
       "      <td>...</td>\n",
       "      <td>...</td>\n",
       "      <td>...</td>\n",
       "      <td>...</td>\n",
       "      <td>...</td>\n",
       "      <td>...</td>\n",
       "      <td>...</td>\n",
       "      <td>...</td>\n",
       "      <td>...</td>\n",
       "      <td>...</td>\n",
       "      <td>...</td>\n",
       "      <td>...</td>\n",
       "      <td>...</td>\n",
       "      <td>...</td>\n",
       "    </tr>\n",
       "    <tr>\n",
       "      <th>995</th>\n",
       "      <td>233-67-5758</td>\n",
       "      <td>C</td>\n",
       "      <td>Naypyitaw</td>\n",
       "      <td>Normal</td>\n",
       "      <td>Male</td>\n",
       "      <td>Health and beauty</td>\n",
       "      <td>40.35</td>\n",
       "      <td>1</td>\n",
       "      <td>2.0175</td>\n",
       "      <td>42.3675</td>\n",
       "      <td>2019-01-29</td>\n",
       "      <td>13:46:00</td>\n",
       "      <td>Ewallet</td>\n",
       "      <td>40.35</td>\n",
       "      <td>4.761905</td>\n",
       "      <td>2.0175</td>\n",
       "      <td>6.2</td>\n",
       "    </tr>\n",
       "    <tr>\n",
       "      <th>996</th>\n",
       "      <td>303-96-2227</td>\n",
       "      <td>B</td>\n",
       "      <td>Mandalay</td>\n",
       "      <td>Normal</td>\n",
       "      <td>Female</td>\n",
       "      <td>Home and lifestyle</td>\n",
       "      <td>97.38</td>\n",
       "      <td>10</td>\n",
       "      <td>48.6900</td>\n",
       "      <td>1022.4900</td>\n",
       "      <td>2019-03-02</td>\n",
       "      <td>17:16:00</td>\n",
       "      <td>Ewallet</td>\n",
       "      <td>973.80</td>\n",
       "      <td>4.761905</td>\n",
       "      <td>48.6900</td>\n",
       "      <td>4.4</td>\n",
       "    </tr>\n",
       "    <tr>\n",
       "      <th>997</th>\n",
       "      <td>727-02-1313</td>\n",
       "      <td>A</td>\n",
       "      <td>Yangon</td>\n",
       "      <td>Member</td>\n",
       "      <td>Male</td>\n",
       "      <td>Food and beverages</td>\n",
       "      <td>31.84</td>\n",
       "      <td>1</td>\n",
       "      <td>1.5920</td>\n",
       "      <td>33.4320</td>\n",
       "      <td>2019-02-09</td>\n",
       "      <td>13:22:00</td>\n",
       "      <td>Cash</td>\n",
       "      <td>31.84</td>\n",
       "      <td>4.761905</td>\n",
       "      <td>1.5920</td>\n",
       "      <td>7.7</td>\n",
       "    </tr>\n",
       "    <tr>\n",
       "      <th>998</th>\n",
       "      <td>347-56-2442</td>\n",
       "      <td>A</td>\n",
       "      <td>Yangon</td>\n",
       "      <td>Normal</td>\n",
       "      <td>Male</td>\n",
       "      <td>Home and lifestyle</td>\n",
       "      <td>65.82</td>\n",
       "      <td>1</td>\n",
       "      <td>3.2910</td>\n",
       "      <td>69.1110</td>\n",
       "      <td>2019-02-22</td>\n",
       "      <td>15:33:00</td>\n",
       "      <td>Cash</td>\n",
       "      <td>65.82</td>\n",
       "      <td>4.761905</td>\n",
       "      <td>3.2910</td>\n",
       "      <td>4.1</td>\n",
       "    </tr>\n",
       "    <tr>\n",
       "      <th>999</th>\n",
       "      <td>849-09-3807</td>\n",
       "      <td>A</td>\n",
       "      <td>Yangon</td>\n",
       "      <td>Member</td>\n",
       "      <td>Female</td>\n",
       "      <td>Fashion accessories</td>\n",
       "      <td>88.34</td>\n",
       "      <td>7</td>\n",
       "      <td>30.9190</td>\n",
       "      <td>649.2990</td>\n",
       "      <td>2019-02-18</td>\n",
       "      <td>13:28:00</td>\n",
       "      <td>Cash</td>\n",
       "      <td>618.38</td>\n",
       "      <td>4.761905</td>\n",
       "      <td>30.9190</td>\n",
       "      <td>6.6</td>\n",
       "    </tr>\n",
       "  </tbody>\n",
       "</table>\n",
       "<p>1000 rows × 17 columns</p>\n",
       "</div>"
      ],
      "text/plain": [
       "      Invoice ID Branch       City Customer type  Gender  \\\n",
       "0    750-67-8428      A     Yangon        Member  Female   \n",
       "1    226-31-3081      C  Naypyitaw        Normal  Female   \n",
       "2    631-41-3108      A     Yangon        Normal    Male   \n",
       "3    123-19-1176      A     Yangon        Member    Male   \n",
       "4    373-73-7910      A     Yangon        Normal    Male   \n",
       "..           ...    ...        ...           ...     ...   \n",
       "995  233-67-5758      C  Naypyitaw        Normal    Male   \n",
       "996  303-96-2227      B   Mandalay        Normal  Female   \n",
       "997  727-02-1313      A     Yangon        Member    Male   \n",
       "998  347-56-2442      A     Yangon        Normal    Male   \n",
       "999  849-09-3807      A     Yangon        Member  Female   \n",
       "\n",
       "               Product line  Unit price  Quantity   Tax 5%      Total  \\\n",
       "0         Health and beauty       74.69         7  26.1415   548.9715   \n",
       "1    Electronic accessories       15.28         5   3.8200    80.2200   \n",
       "2        Home and lifestyle       46.33         7  16.2155   340.5255   \n",
       "3         Health and beauty       58.22         8  23.2880   489.0480   \n",
       "4         Sports and travel       86.31         7  30.2085   634.3785   \n",
       "..                      ...         ...       ...      ...        ...   \n",
       "995       Health and beauty       40.35         1   2.0175    42.3675   \n",
       "996      Home and lifestyle       97.38        10  48.6900  1022.4900   \n",
       "997      Food and beverages       31.84         1   1.5920    33.4320   \n",
       "998      Home and lifestyle       65.82         1   3.2910    69.1110   \n",
       "999     Fashion accessories       88.34         7  30.9190   649.2990   \n",
       "\n",
       "           Date      Time      Payment    cogs  gross margin percentage  \\\n",
       "0    2019-01-05  13:08:00      Ewallet  522.83                 4.761905   \n",
       "1    2019-03-08  10:29:00         Cash   76.40                 4.761905   \n",
       "2    2019-03-03  13:23:00  Credit card  324.31                 4.761905   \n",
       "3    2019-01-27  20:33:00      Ewallet  465.76                 4.761905   \n",
       "4    2019-02-08  10:37:00      Ewallet  604.17                 4.761905   \n",
       "..          ...       ...          ...     ...                      ...   \n",
       "995  2019-01-29  13:46:00      Ewallet   40.35                 4.761905   \n",
       "996  2019-03-02  17:16:00      Ewallet  973.80                 4.761905   \n",
       "997  2019-02-09  13:22:00         Cash   31.84                 4.761905   \n",
       "998  2019-02-22  15:33:00         Cash   65.82                 4.761905   \n",
       "999  2019-02-18  13:28:00         Cash  618.38                 4.761905   \n",
       "\n",
       "     gross income  Rating  \n",
       "0         26.1415     9.1  \n",
       "1          3.8200     9.6  \n",
       "2         16.2155     7.4  \n",
       "3         23.2880     8.4  \n",
       "4         30.2085     5.3  \n",
       "..            ...     ...  \n",
       "995        2.0175     6.2  \n",
       "996       48.6900     4.4  \n",
       "997        1.5920     7.7  \n",
       "998        3.2910     4.1  \n",
       "999       30.9190     6.6  \n",
       "\n",
       "[1000 rows x 17 columns]"
      ]
     },
     "execution_count": 114,
     "metadata": {},
     "output_type": "execute_result"
    }
   ],
   "source": [
    "df=pd.read_csv(\"D:/WalmartSalesAnalysis-master/WalmartSalesData.csv\")\n",
    "df"
   ]
  },
  {
   "cell_type": "code",
   "execution_count": 3,
   "id": "2212655d-45f1-4d3f-935f-74d43b651433",
   "metadata": {},
   "outputs": [
    {
     "name": "stdout",
     "output_type": "stream",
     "text": [
      "<class 'pandas.core.frame.DataFrame'>\n",
      "RangeIndex: 1000 entries, 0 to 999\n",
      "Data columns (total 17 columns):\n",
      " #   Column                   Non-Null Count  Dtype  \n",
      "---  ------                   --------------  -----  \n",
      " 0   Invoice ID               1000 non-null   object \n",
      " 1   Branch                   1000 non-null   object \n",
      " 2   City                     1000 non-null   object \n",
      " 3   Customer type            1000 non-null   object \n",
      " 4   Gender                   1000 non-null   object \n",
      " 5   Product line             1000 non-null   object \n",
      " 6   Unit price               1000 non-null   float64\n",
      " 7   Quantity                 1000 non-null   int64  \n",
      " 8   Tax 5%                   1000 non-null   float64\n",
      " 9   Total                    1000 non-null   float64\n",
      " 10  Date                     1000 non-null   object \n",
      " 11  Time                     1000 non-null   object \n",
      " 12  Payment                  1000 non-null   object \n",
      " 13  cogs                     1000 non-null   float64\n",
      " 14  gross margin percentage  1000 non-null   float64\n",
      " 15  gross income             1000 non-null   float64\n",
      " 16  Rating                   1000 non-null   float64\n",
      "dtypes: float64(7), int64(1), object(9)\n",
      "memory usage: 132.9+ KB\n"
     ]
    }
   ],
   "source": [
    "df.info()"
   ]
  },
  {
   "cell_type": "code",
   "execution_count": 4,
   "id": "cebfab13-8969-4a56-ae56-94444dc0cc0e",
   "metadata": {},
   "outputs": [
    {
     "data": {
      "text/plain": [
       "Invoice ID                 0\n",
       "Branch                     0\n",
       "City                       0\n",
       "Customer type              0\n",
       "Gender                     0\n",
       "Product line               0\n",
       "Unit price                 0\n",
       "Quantity                   0\n",
       "Tax 5%                     0\n",
       "Total                      0\n",
       "Date                       0\n",
       "Time                       0\n",
       "Payment                    0\n",
       "cogs                       0\n",
       "gross margin percentage    0\n",
       "gross income               0\n",
       "Rating                     0\n",
       "dtype: int64"
      ]
     },
     "execution_count": 4,
     "metadata": {},
     "output_type": "execute_result"
    }
   ],
   "source": [
    "missing_values=df.isnull().sum()\n",
    "missing_values"
   ]
  },
  {
   "cell_type": "code",
   "execution_count": 5,
   "id": "4a24392f-e442-43b7-9f47-d46821562fa2",
   "metadata": {},
   "outputs": [
    {
     "data": {
      "text/html": [
       "<div>\n",
       "<style scoped>\n",
       "    .dataframe tbody tr th:only-of-type {\n",
       "        vertical-align: middle;\n",
       "    }\n",
       "\n",
       "    .dataframe tbody tr th {\n",
       "        vertical-align: top;\n",
       "    }\n",
       "\n",
       "    .dataframe thead th {\n",
       "        text-align: right;\n",
       "    }\n",
       "</style>\n",
       "<table border=\"1\" class=\"dataframe\">\n",
       "  <thead>\n",
       "    <tr style=\"text-align: right;\">\n",
       "      <th></th>\n",
       "      <th>Unit price</th>\n",
       "      <th>Quantity</th>\n",
       "      <th>Tax 5%</th>\n",
       "      <th>Total</th>\n",
       "      <th>cogs</th>\n",
       "      <th>gross margin percentage</th>\n",
       "      <th>gross income</th>\n",
       "      <th>Rating</th>\n",
       "    </tr>\n",
       "  </thead>\n",
       "  <tbody>\n",
       "    <tr>\n",
       "      <th>count</th>\n",
       "      <td>1000.000000</td>\n",
       "      <td>1000.000000</td>\n",
       "      <td>1000.000000</td>\n",
       "      <td>1000.000000</td>\n",
       "      <td>1000.00000</td>\n",
       "      <td>1.000000e+03</td>\n",
       "      <td>1000.000000</td>\n",
       "      <td>1000.00000</td>\n",
       "    </tr>\n",
       "    <tr>\n",
       "      <th>mean</th>\n",
       "      <td>55.672130</td>\n",
       "      <td>5.510000</td>\n",
       "      <td>15.379369</td>\n",
       "      <td>322.966749</td>\n",
       "      <td>307.58738</td>\n",
       "      <td>4.761905e+00</td>\n",
       "      <td>15.379369</td>\n",
       "      <td>6.97270</td>\n",
       "    </tr>\n",
       "    <tr>\n",
       "      <th>std</th>\n",
       "      <td>26.494628</td>\n",
       "      <td>2.923431</td>\n",
       "      <td>11.708825</td>\n",
       "      <td>245.885335</td>\n",
       "      <td>234.17651</td>\n",
       "      <td>6.131498e-14</td>\n",
       "      <td>11.708825</td>\n",
       "      <td>1.71858</td>\n",
       "    </tr>\n",
       "    <tr>\n",
       "      <th>min</th>\n",
       "      <td>10.080000</td>\n",
       "      <td>1.000000</td>\n",
       "      <td>0.508500</td>\n",
       "      <td>10.678500</td>\n",
       "      <td>10.17000</td>\n",
       "      <td>4.761905e+00</td>\n",
       "      <td>0.508500</td>\n",
       "      <td>4.00000</td>\n",
       "    </tr>\n",
       "    <tr>\n",
       "      <th>25%</th>\n",
       "      <td>32.875000</td>\n",
       "      <td>3.000000</td>\n",
       "      <td>5.924875</td>\n",
       "      <td>124.422375</td>\n",
       "      <td>118.49750</td>\n",
       "      <td>4.761905e+00</td>\n",
       "      <td>5.924875</td>\n",
       "      <td>5.50000</td>\n",
       "    </tr>\n",
       "    <tr>\n",
       "      <th>50%</th>\n",
       "      <td>55.230000</td>\n",
       "      <td>5.000000</td>\n",
       "      <td>12.088000</td>\n",
       "      <td>253.848000</td>\n",
       "      <td>241.76000</td>\n",
       "      <td>4.761905e+00</td>\n",
       "      <td>12.088000</td>\n",
       "      <td>7.00000</td>\n",
       "    </tr>\n",
       "    <tr>\n",
       "      <th>75%</th>\n",
       "      <td>77.935000</td>\n",
       "      <td>8.000000</td>\n",
       "      <td>22.445250</td>\n",
       "      <td>471.350250</td>\n",
       "      <td>448.90500</td>\n",
       "      <td>4.761905e+00</td>\n",
       "      <td>22.445250</td>\n",
       "      <td>8.50000</td>\n",
       "    </tr>\n",
       "    <tr>\n",
       "      <th>max</th>\n",
       "      <td>99.960000</td>\n",
       "      <td>10.000000</td>\n",
       "      <td>49.650000</td>\n",
       "      <td>1042.650000</td>\n",
       "      <td>993.00000</td>\n",
       "      <td>4.761905e+00</td>\n",
       "      <td>49.650000</td>\n",
       "      <td>10.00000</td>\n",
       "    </tr>\n",
       "  </tbody>\n",
       "</table>\n",
       "</div>"
      ],
      "text/plain": [
       "        Unit price     Quantity       Tax 5%        Total        cogs  \\\n",
       "count  1000.000000  1000.000000  1000.000000  1000.000000  1000.00000   \n",
       "mean     55.672130     5.510000    15.379369   322.966749   307.58738   \n",
       "std      26.494628     2.923431    11.708825   245.885335   234.17651   \n",
       "min      10.080000     1.000000     0.508500    10.678500    10.17000   \n",
       "25%      32.875000     3.000000     5.924875   124.422375   118.49750   \n",
       "50%      55.230000     5.000000    12.088000   253.848000   241.76000   \n",
       "75%      77.935000     8.000000    22.445250   471.350250   448.90500   \n",
       "max      99.960000    10.000000    49.650000  1042.650000   993.00000   \n",
       "\n",
       "       gross margin percentage  gross income      Rating  \n",
       "count             1.000000e+03   1000.000000  1000.00000  \n",
       "mean              4.761905e+00     15.379369     6.97270  \n",
       "std               6.131498e-14     11.708825     1.71858  \n",
       "min               4.761905e+00      0.508500     4.00000  \n",
       "25%               4.761905e+00      5.924875     5.50000  \n",
       "50%               4.761905e+00     12.088000     7.00000  \n",
       "75%               4.761905e+00     22.445250     8.50000  \n",
       "max               4.761905e+00     49.650000    10.00000  "
      ]
     },
     "execution_count": 5,
     "metadata": {},
     "output_type": "execute_result"
    }
   ],
   "source": [
    "df.describe()"
   ]
  },
  {
   "cell_type": "code",
   "execution_count": 6,
   "id": "1f271330-f8e9-4b09-ae28-24dd324daa8f",
   "metadata": {},
   "outputs": [
    {
     "name": "stdout",
     "output_type": "stream",
     "text": [
      "(-34.715, 145.525)\n",
      "(-4.5, 15.5)\n",
      "(-18.855687500000002, 47.2258125)\n",
      "(-395.9694375, 991.7420625)\n",
      "(-377.11375000000004, 944.5162500000001)\n",
      "(4.761904762, 4.761904762)\n",
      "(-18.855687500000002, 47.2258125)\n",
      "(1.0, 13.0)\n"
     ]
    }
   ],
   "source": [
    "def find_outliers(d,col):\n",
    " q1=d[col].quantile(0.25)\n",
    " q3=d[col].quantile(0.75)\n",
    " IQR=q3-q1\n",
    " lower_limit= q1-1.5*IQR\n",
    " upper_limit= q3+1.5*IQR\n",
    " return lower_limit,upper_limit\n",
    "\n",
    "a= ['Unit price','Quantity','Tax 5%','Total', 'cogs','gross margin percentage','gross income','Rating']\n",
    "for i in a:\n",
    " print(find_outliers(df,i))\n",
    "\n",
    "\n"
   ]
  },
  {
   "cell_type": "code",
   "execution_count": 7,
   "id": "66a37f76-a202-4bd4-b361-34ca144571cf",
   "metadata": {},
   "outputs": [
    {
     "data": {
      "image/png": "[encoded data removed]",
      "text/plain": [
       "<Figure size 500x1500 with 8 Axes>"
      ]
     },
     "metadata": {},
     "output_type": "display_data"
    }
   ],
   "source": [
    "numerical_columns = ['Unit price','Quantity','Tax 5%','Total', 'cogs','gross margin percentage','gross income','Rating']\n",
    "plt.figure(figsize=(5, 15)) \n",
    "for i, column in enumerate(numerical_columns, 1):\n",
    " plt.subplot(len(numerical_columns), 1, i) \n",
    " sns.boxplot(df[column], orient='h',color='#2B7A78')\n",
    " plt.title(f'Box Plot - {column}')\n",
    " plt.xlabel(column)\n",
    " plt.tight_layout() "
   ]
  },
  {
   "cell_type": "code",
   "execution_count": 8,
   "id": "ccc7e9b2-5390-42e2-bdd9-68473bcf99a5",
   "metadata": {},
   "outputs": [
    {
     "data": {
      "text/plain": [
       "0      26.141500\n",
       "1       3.820000\n",
       "2      16.215500\n",
       "3      23.288000\n",
       "4      30.208500\n",
       "         ...    \n",
       "995     2.017500\n",
       "996    15.379369\n",
       "997     1.592000\n",
       "998     3.291000\n",
       "999    30.919000\n",
       "Name: Tax 5%, Length: 1000, dtype: float64"
      ]
     },
     "execution_count": 8,
     "metadata": {},
     "output_type": "execute_result"
    }
   ],
   "source": [
    "df[\"Tax 5%\"]=df[\"Tax 5%\"].apply(lambda x: df[\"Tax 5%\"].mean() if(x<-18.855687500000002 or x>47.2258125) else x)\n",
    "df[\"Tax 5%\"]"
   ]
  },
  {
   "cell_type": "code",
   "execution_count": 9,
   "id": "f0a2f6e9-9db2-4dfd-a1a4-e3a4de30660a",
   "metadata": {},
   "outputs": [
    {
     "data": {
      "text/plain": [
       "0      548.971500\n",
       "1       80.220000\n",
       "2      340.525500\n",
       "3      489.048000\n",
       "4      634.378500\n",
       "          ...    \n",
       "995     42.367500\n",
       "996    322.966749\n",
       "997     33.432000\n",
       "998     69.111000\n",
       "999    649.299000\n",
       "Name: Total, Length: 1000, dtype: float64"
      ]
     },
     "execution_count": 9,
     "metadata": {},
     "output_type": "execute_result"
    }
   ],
   "source": [
    "df[\"Total\"]=df[\"Total\"].apply(lambda x: df[\"Total\"].mean() if(x<-395.9694375 or x>991.7420625) else x)\n",
    "df[\"Total\"]"
   ]
  },
  {
   "cell_type": "code",
   "execution_count": 10,
   "id": "a86c3b40-79a2-4a3c-af4a-a9e276c42813",
   "metadata": {},
   "outputs": [
    {
     "data": {
      "text/plain": [
       "0      522.83000\n",
       "1       76.40000\n",
       "2      324.31000\n",
       "3      465.76000\n",
       "4      604.17000\n",
       "         ...    \n",
       "995     40.35000\n",
       "996    307.58738\n",
       "997     31.84000\n",
       "998     65.82000\n",
       "999    618.38000\n",
       "Name: cogs, Length: 1000, dtype: float64"
      ]
     },
     "execution_count": 10,
     "metadata": {},
     "output_type": "execute_result"
    }
   ],
   "source": [
    "df[\"cogs\"]=df[\"cogs\"].apply(lambda x: df[\"cogs\"].mean() if(x<-377.11375000000004 or x>944.5162500000001) else x)\n",
    "df[\"cogs\"]"
   ]
  },
  {
   "cell_type": "code",
   "execution_count": 11,
   "id": "396b5323-d669-49cd-974f-93c8bc090085",
   "metadata": {},
   "outputs": [
    {
     "data": {
      "text/plain": [
       "0      26.141500\n",
       "1       3.820000\n",
       "2      16.215500\n",
       "3      23.288000\n",
       "4      30.208500\n",
       "         ...    \n",
       "995     2.017500\n",
       "996    15.379369\n",
       "997     1.592000\n",
       "998     3.291000\n",
       "999    30.919000\n",
       "Name: gross income, Length: 1000, dtype: float64"
      ]
     },
     "execution_count": 11,
     "metadata": {},
     "output_type": "execute_result"
    }
   ],
   "source": [
    "df[\"gross income\"]=df[\"gross income\"].apply(lambda x: df[\"gross income\"].mean() if(x<-18.855687500000002 or x>47.2258125) else x)\n",
    "df[\"gross income\"]"
   ]
  },
  {
   "cell_type": "code",
   "execution_count": 12,
   "id": "abe20a5f-33fe-47c7-a634-b23444bba8ff",
   "metadata": {},
   "outputs": [
    {
     "data": {
      "image/png": "[encoded data removed]",
      "text/plain": [
       "<Figure size 500x1500 with 8 Axes>"
      ]
     },
     "metadata": {},
     "output_type": "display_data"
    }
   ],
   "source": [
    "numerical_columns = ['Unit price','Quantity','Tax 5%','Total', 'cogs','gross margin percentage','gross income','Rating']\n",
    "plt.figure(figsize=(5, 15)) \n",
    "for i, column in enumerate(numerical_columns, 1):\n",
    " plt.subplot(len(numerical_columns), 1, i) \n",
    " sns.boxplot(df[column], orient='h',color='#2B7A78')\n",
    " plt.title(f'Box Plot - {column}')\n",
    " plt.xlabel(column)\n",
    " plt.tight_layout() "
   ]
  },
  {
   "cell_type": "markdown",
   "id": "3fcfec31-5a83-4bd6-9e03-61f61699c8dc",
   "metadata": {},
   "source": [
    "## 1. How many unique cities does the data have?"
   ]
  },
  {
   "cell_type": "code",
   "execution_count": 13,
   "id": "1c2e261a-86b4-4a21-9d5b-1aa77130daec",
   "metadata": {},
   "outputs": [
    {
     "data": {
      "text/plain": [
       "City\n",
       "Yangon       340\n",
       "Mandalay     332\n",
       "Naypyitaw    328\n",
       "Name: count, dtype: int64"
      ]
     },
     "execution_count": 13,
     "metadata": {},
     "output_type": "execute_result"
    }
   ],
   "source": [
    "city = df['City'].value_counts()\n",
    "city"
   ]
  },
  {
   "cell_type": "markdown",
   "id": "76a1f36d-cf46-41f8-9057-477be8b0a4d9",
   "metadata": {},
   "source": [
    "## 2. In which city is each branch?"
   ]
  },
  {
   "cell_type": "code",
   "execution_count": 14,
   "id": "929e8cfb-82ff-4306-afc1-beb0f8a32ede",
   "metadata": {},
   "outputs": [
    {
     "data": {
      "text/plain": [
       "(City\n",
       " Yangon       340\n",
       " Mandalay     332\n",
       " Naypyitaw    328\n",
       " Name: count, dtype: int64,\n",
       " Branch\n",
       " A    340\n",
       " B    332\n",
       " C    328\n",
       " Name: count, dtype: int64)"
      ]
     },
     "execution_count": 14,
     "metadata": {},
     "output_type": "execute_result"
    }
   ],
   "source": [
    "branch = df['Branch'].value_counts()\n",
    "df1=(city,branch)\n",
    "df1"
   ]
  },
  {
   "cell_type": "markdown",
   "id": "8abcc216-1140-472c-8408-ad61602710ce",
   "metadata": {},
   "source": [
    "## 3. How many unique product lines does the data have?"
   ]
  },
  {
   "cell_type": "code",
   "execution_count": 15,
   "id": "537b7110-5dde-47e7-9882-f29a71e3f853",
   "metadata": {},
   "outputs": [
    {
     "data": {
      "text/plain": [
       "Product line\n",
       "Fashion accessories       178\n",
       "Food and beverages        174\n",
       "Electronic accessories    170\n",
       "Sports and travel         166\n",
       "Home and lifestyle        160\n",
       "Health and beauty         152\n",
       "Name: count, dtype: int64"
      ]
     },
     "execution_count": 15,
     "metadata": {},
     "output_type": "execute_result"
    }
   ],
   "source": [
    "df['Product line'].value_counts()"
   ]
  },
  {
   "cell_type": "markdown",
   "id": "6707b98e-6b69-4d64-856d-3805ba5bc967",
   "metadata": {},
   "source": [
    "## 4. What is the most common payment method?"
   ]
  },
  {
   "cell_type": "code",
   "execution_count": 16,
   "id": "db8251fa-7b0b-4ced-bd04-521851a92952",
   "metadata": {},
   "outputs": [
    {
     "data": {
      "text/plain": [
       "'Ewallet'"
      ]
     },
     "execution_count": 16,
     "metadata": {},
     "output_type": "execute_result"
    }
   ],
   "source": [
    "df['Payment'].value_counts().idxmax()"
   ]
  },
  {
   "cell_type": "markdown",
   "id": "33a86640-bd59-47ab-b7fd-86b83149a25d",
   "metadata": {},
   "source": [
    "## 5.What is the most selling product line?"
   ]
  },
  {
   "cell_type": "code",
   "execution_count": 17,
   "id": "415b634a-2f9e-429f-a177-9e399108da83",
   "metadata": {},
   "outputs": [
    {
     "data": {
      "text/plain": [
       "Product line\n",
       "Fashion accessories       178\n",
       "Food and beverages        174\n",
       "Electronic accessories    170\n",
       "Name: count, dtype: int64"
      ]
     },
     "execution_count": 17,
     "metadata": {},
     "output_type": "execute_result"
    }
   ],
   "source": [
    "df['Product line'].value_counts().head(3)"
   ]
  },
  {
   "cell_type": "markdown",
   "id": "edd6401e-7a1e-4f49-ba1a-b0713891e162",
   "metadata": {},
   "source": [
    "## 6.What is the total revenue by month?"
   ]
  },
  {
   "cell_type": "code",
   "execution_count": 84,
   "id": "28e3426a-0515-4bf8-8558-563bc737211a",
   "metadata": {},
   "outputs": [
    {
     "data": {
      "text/plain": [
       "Month\n",
       "1    112820.396745\n",
       "2     95085.629247\n",
       "3    108755.983749\n",
       "Name: Total, dtype: float64"
      ]
     },
     "execution_count": 84,
     "metadata": {},
     "output_type": "execute_result"
    }
   ],
   "source": [
    "df['Date'] = pd.to_datetime(df['Date'])\n",
    "df['Month'] = df['Date'].dt.month\n",
    "df.groupby('Month')['Total'].sum()"
   ]
  },
  {
   "cell_type": "markdown",
   "id": "3253c949-2b7f-4b26-8870-303c7b9a0476",
   "metadata": {},
   "source": [
    "## 7.What month had the largest COGS?"
   ]
  },
  {
   "cell_type": "code",
   "execution_count": 19,
   "id": "ed91bd16-5d38-4e51-9313-f4acfd4d3851",
   "metadata": {},
   "outputs": [
    {
     "data": {
      "text/plain": [
       "Month\n",
       "1    107447.99690\n",
       "2     90557.74214\n",
       "3    103577.12738\n",
       "Name: cogs, dtype: float64"
      ]
     },
     "execution_count": 19,
     "metadata": {},
     "output_type": "execute_result"
    }
   ],
   "source": [
    "df.groupby('Month')['cogs'].sum()"
   ]
  },
  {
   "cell_type": "markdown",
   "id": "22b9bcca-3fb0-4b8f-9637-dc6500d4910b",
   "metadata": {},
   "source": [
    "## 8.What product line has the largest revenue?"
   ]
  },
  {
   "cell_type": "code",
   "execution_count": 20,
   "id": "2d025590-9684-46f3-8e5b-ed87316bee22",
   "metadata": {},
   "outputs": [
    {
     "data": {
      "text/plain": [
       "Product line\n",
       "Electronic accessories    54337.531500\n",
       "Fashion accessories       52172.150247\n",
       "Food and beverages        55433.350749\n",
       "Health and beauty         49193.739000\n",
       "Home and lifestyle        51081.564996\n",
       "Sports and travel         54443.673249\n",
       "Name: Total, dtype: float64"
      ]
     },
     "execution_count": 20,
     "metadata": {},
     "output_type": "execute_result"
    }
   ],
   "source": [
    "df.groupby('Product line')['Total'].sum()"
   ]
  },
  {
   "cell_type": "markdown",
   "id": "65b28ca6-d0e4-491d-8950-0ae01566b5ca",
   "metadata": {},
   "source": [
    "## 9.What is the city with largest revenue?"
   ]
  },
  {
   "cell_type": "code",
   "execution_count": 21,
   "id": "6c9c14f3-12fe-49ff-8919-514e79329fca",
   "metadata": {},
   "outputs": [
    {
     "data": {
      "text/plain": [
       "City\n",
       "Mandalay     104798.730498\n",
       "Naypyitaw    106379.231994\n",
       "Yangon       105484.047249\n",
       "Name: Total, dtype: float64"
      ]
     },
     "execution_count": 21,
     "metadata": {},
     "output_type": "execute_result"
    }
   ],
   "source": [
    "df.groupby('City')['Total'].sum()\n"
   ]
  },
  {
   "cell_type": "markdown",
   "id": "471ca7fc-17c3-4557-b6cd-9ea42ed5e869",
   "metadata": {},
   "source": [
    "## 10.What product line had the largest TAX?"
   ]
  },
  {
   "cell_type": "code",
   "execution_count": 24,
   "id": "84dfa953-e1d7-4d6f-ae56-19d4f39141bd",
   "metadata": {},
   "outputs": [
    {
     "data": {
      "text/plain": [
       "Product line\n",
       "Electronic accessories    2587.501500\n",
       "Fashion accessories       2484.388107\n",
       "Food and beverages        2639.683369\n",
       "Health and beauty         2342.559000\n",
       "Home and lifestyle        2432.455476\n",
       "Sports and travel         2592.555869\n",
       "Name: Tax 5%, dtype: float64"
      ]
     },
     "execution_count": 24,
     "metadata": {},
     "output_type": "execute_result"
    }
   ],
   "source": [
    "df.groupby('Product line')['Tax 5%'].sum()"
   ]
  },
  {
   "cell_type": "code",
   "execution_count": 68,
   "id": "f5815816-a1b5-4268-80b5-1b9082d53052",
   "metadata": {},
   "outputs": [
    {
     "name": "stdout",
     "output_type": "stream",
     "text": [
      "<class 'pandas.core.frame.DataFrame'>\n",
      "RangeIndex: 1000 entries, 0 to 999\n",
      "Data columns (total 18 columns):\n",
      " #   Column                   Non-Null Count  Dtype         \n",
      "---  ------                   --------------  -----         \n",
      " 0   Invoice ID               1000 non-null   object        \n",
      " 1   Branch                   1000 non-null   object        \n",
      " 2   City                     1000 non-null   object        \n",
      " 3   Customer type            1000 non-null   object        \n",
      " 4   Gender                   1000 non-null   object        \n",
      " 5   Product line             1000 non-null   object        \n",
      " 6   Unit price               1000 non-null   float64       \n",
      " 7   Quantity                 1000 non-null   int64         \n",
      " 8   Tax 5%                   1000 non-null   float64       \n",
      " 9   Total                    1000 non-null   float64       \n",
      " 10  Date                     1000 non-null   datetime64[ns]\n",
      " 11  Time                     1000 non-null   object        \n",
      " 12  Payment                  1000 non-null   object        \n",
      " 13  cogs                     1000 non-null   float64       \n",
      " 14  gross margin percentage  1000 non-null   float64       \n",
      " 15  gross income             1000 non-null   float64       \n",
      " 16  Rating                   1000 non-null   float64       \n",
      " 17  Month                    1000 non-null   int32         \n",
      "dtypes: datetime64[ns](1), float64(7), int32(1), int64(1), object(8)\n",
      "memory usage: 136.8+ KB\n"
     ]
    }
   ],
   "source": [
    "df.info()"
   ]
  },
  {
   "cell_type": "markdown",
   "id": "05716d7c-9472-46b0-b8a1-3fdbd96abb4e",
   "metadata": {},
   "source": [
    "## 11.What is the most common product line by gender?"
   ]
  },
  {
   "cell_type": "code",
   "execution_count": 29,
   "id": "f9c514d7-2b45-4a9d-a1f8-275a01b88a50",
   "metadata": {},
   "outputs": [
    {
     "data": {
      "text/html": [
       "<div>\n",
       "<style scoped>\n",
       "    .dataframe tbody tr th:only-of-type {\n",
       "        vertical-align: middle;\n",
       "    }\n",
       "\n",
       "    .dataframe tbody tr th {\n",
       "        vertical-align: top;\n",
       "    }\n",
       "\n",
       "    .dataframe thead th {\n",
       "        text-align: right;\n",
       "    }\n",
       "</style>\n",
       "<table border=\"1\" class=\"dataframe\">\n",
       "  <thead>\n",
       "    <tr style=\"text-align: right;\">\n",
       "      <th></th>\n",
       "      <th>Gender</th>\n",
       "      <th>Product line</th>\n",
       "      <th>count</th>\n",
       "    </tr>\n",
       "  </thead>\n",
       "  <tbody>\n",
       "    <tr>\n",
       "      <th>1</th>\n",
       "      <td>Female</td>\n",
       "      <td>Fashion accessories</td>\n",
       "      <td>96</td>\n",
       "    </tr>\n",
       "    <tr>\n",
       "      <th>9</th>\n",
       "      <td>Male</td>\n",
       "      <td>Health and beauty</td>\n",
       "      <td>88</td>\n",
       "    </tr>\n",
       "  </tbody>\n",
       "</table>\n",
       "</div>"
      ],
      "text/plain": [
       "   Gender         Product line  count\n",
       "1  Female  Fashion accessories     96\n",
       "9    Male    Health and beauty     88"
      ]
     },
     "execution_count": 29,
     "metadata": {},
     "output_type": "execute_result"
    }
   ],
   "source": [
    "product_line_by_gender = df.groupby(['Gender', 'Product line']).size().reset_index(name='count')\n",
    "most_common_product_by_gender = product_line_by_gender.loc[product_line_by_gender.groupby('Gender')['count'].idxmax()]\n",
    "most_common_product_by_gender"
   ]
  },
  {
   "cell_type": "markdown",
   "id": "793cd29a-5467-4538-b581-025be929dcf6",
   "metadata": {},
   "source": [
    "## 12.What is the average rating of each product line?"
   ]
  },
  {
   "cell_type": "code",
   "execution_count": 32,
   "id": "809957eb-ba52-451a-bafc-69052a6ec996",
   "metadata": {},
   "outputs": [
    {
     "data": {
      "text/html": [
       "<div>\n",
       "<style scoped>\n",
       "    .dataframe tbody tr th:only-of-type {\n",
       "        vertical-align: middle;\n",
       "    }\n",
       "\n",
       "    .dataframe tbody tr th {\n",
       "        vertical-align: top;\n",
       "    }\n",
       "\n",
       "    .dataframe thead th {\n",
       "        text-align: right;\n",
       "    }\n",
       "</style>\n",
       "<table border=\"1\" class=\"dataframe\">\n",
       "  <thead>\n",
       "    <tr style=\"text-align: right;\">\n",
       "      <th></th>\n",
       "      <th>Product line</th>\n",
       "      <th>Rating</th>\n",
       "    </tr>\n",
       "  </thead>\n",
       "  <tbody>\n",
       "    <tr>\n",
       "      <th>0</th>\n",
       "      <td>Electronic accessories</td>\n",
       "      <td>6.924706</td>\n",
       "    </tr>\n",
       "    <tr>\n",
       "      <th>1</th>\n",
       "      <td>Fashion accessories</td>\n",
       "      <td>7.029213</td>\n",
       "    </tr>\n",
       "    <tr>\n",
       "      <th>2</th>\n",
       "      <td>Food and beverages</td>\n",
       "      <td>7.113218</td>\n",
       "    </tr>\n",
       "    <tr>\n",
       "      <th>3</th>\n",
       "      <td>Health and beauty</td>\n",
       "      <td>7.003289</td>\n",
       "    </tr>\n",
       "    <tr>\n",
       "      <th>4</th>\n",
       "      <td>Home and lifestyle</td>\n",
       "      <td>6.837500</td>\n",
       "    </tr>\n",
       "    <tr>\n",
       "      <th>5</th>\n",
       "      <td>Sports and travel</td>\n",
       "      <td>6.916265</td>\n",
       "    </tr>\n",
       "  </tbody>\n",
       "</table>\n",
       "</div>"
      ],
      "text/plain": [
       "             Product line    Rating\n",
       "0  Electronic accessories  6.924706\n",
       "1     Fashion accessories  7.029213\n",
       "2      Food and beverages  7.113218\n",
       "3       Health and beauty  7.003289\n",
       "4      Home and lifestyle  6.837500\n",
       "5       Sports and travel  6.916265"
      ]
     },
     "execution_count": 32,
     "metadata": {},
     "output_type": "execute_result"
    }
   ],
   "source": [
    "average_rating_by_product_line = df.groupby('Product line')['Rating'].mean().reset_index()\n",
    "average_rating_by_product_line"
   ]
  },
  {
   "cell_type": "markdown",
   "id": "7ce8899a-869b-4af8-970a-4257815de26a",
   "metadata": {},
   "source": [
    "## 13.Number of sales made in each time of the day per weekday?"
   ]
  },
  {
   "cell_type": "code",
   "execution_count": 33,
   "id": "d08125a7-86c5-43dc-b40e-15fd5aa9b2d0",
   "metadata": {},
   "outputs": [
    {
     "ename": "KeyError",
     "evalue": "'weekday'",
     "output_type": "error",
     "traceback": [
      "\u001b[1;31m---------------------------------------------------------------------------\u001b[0m",
      "\u001b[1;31mKeyError\u001b[0m                                  Traceback (most recent call last)",
      "Cell \u001b[1;32mIn[33], line 1\u001b[0m\n\u001b[1;32m----> 1\u001b[0m sales_by_time_of_day \u001b[38;5;241m=\u001b[39m df\u001b[38;5;241m.\u001b[39mgroupby([\u001b[38;5;124m'\u001b[39m\u001b[38;5;124mweekday\u001b[39m\u001b[38;5;124m'\u001b[39m, \u001b[38;5;124m'\u001b[39m\u001b[38;5;124mtime_of_day\u001b[39m\u001b[38;5;124m'\u001b[39m])[\u001b[38;5;124m'\u001b[39m\u001b[38;5;124msales\u001b[39m\u001b[38;5;124m'\u001b[39m]\u001b[38;5;241m.\u001b[39msum()\u001b[38;5;241m.\u001b[39mreset_index()\n",
      "File \u001b[1;32m~\\anaconda3\\Lib\\site-packages\\pandas\\core\\frame.py:9183\u001b[0m, in \u001b[0;36mDataFrame.groupby\u001b[1;34m(self, by, axis, level, as_index, sort, group_keys, observed, dropna)\u001b[0m\n\u001b[0;32m   9180\u001b[0m \u001b[38;5;28;01mif\u001b[39;00m level \u001b[38;5;129;01mis\u001b[39;00m \u001b[38;5;28;01mNone\u001b[39;00m \u001b[38;5;129;01mand\u001b[39;00m by \u001b[38;5;129;01mis\u001b[39;00m \u001b[38;5;28;01mNone\u001b[39;00m:\n\u001b[0;32m   9181\u001b[0m     \u001b[38;5;28;01mraise\u001b[39;00m \u001b[38;5;167;01mTypeError\u001b[39;00m(\u001b[38;5;124m\"\u001b[39m\u001b[38;5;124mYou have to supply one of \u001b[39m\u001b[38;5;124m'\u001b[39m\u001b[38;5;124mby\u001b[39m\u001b[38;5;124m'\u001b[39m\u001b[38;5;124m and \u001b[39m\u001b[38;5;124m'\u001b[39m\u001b[38;5;124mlevel\u001b[39m\u001b[38;5;124m'\u001b[39m\u001b[38;5;124m\"\u001b[39m)\n\u001b[1;32m-> 9183\u001b[0m \u001b[38;5;28;01mreturn\u001b[39;00m DataFrameGroupBy(\n\u001b[0;32m   9184\u001b[0m     obj\u001b[38;5;241m=\u001b[39m\u001b[38;5;28mself\u001b[39m,\n\u001b[0;32m   9185\u001b[0m     keys\u001b[38;5;241m=\u001b[39mby,\n\u001b[0;32m   9186\u001b[0m     axis\u001b[38;5;241m=\u001b[39maxis,\n\u001b[0;32m   9187\u001b[0m     level\u001b[38;5;241m=\u001b[39mlevel,\n\u001b[0;32m   9188\u001b[0m     as_index\u001b[38;5;241m=\u001b[39mas_index,\n\u001b[0;32m   9189\u001b[0m     sort\u001b[38;5;241m=\u001b[39msort,\n\u001b[0;32m   9190\u001b[0m     group_keys\u001b[38;5;241m=\u001b[39mgroup_keys,\n\u001b[0;32m   9191\u001b[0m     observed\u001b[38;5;241m=\u001b[39mobserved,\n\u001b[0;32m   9192\u001b[0m     dropna\u001b[38;5;241m=\u001b[39mdropna,\n\u001b[0;32m   9193\u001b[0m )\n",
      "File \u001b[1;32m~\\anaconda3\\Lib\\site-packages\\pandas\\core\\groupby\\groupby.py:1329\u001b[0m, in \u001b[0;36mGroupBy.__init__\u001b[1;34m(self, obj, keys, axis, level, grouper, exclusions, selection, as_index, sort, group_keys, observed, dropna)\u001b[0m\n\u001b[0;32m   1326\u001b[0m \u001b[38;5;28mself\u001b[39m\u001b[38;5;241m.\u001b[39mdropna \u001b[38;5;241m=\u001b[39m dropna\n\u001b[0;32m   1328\u001b[0m \u001b[38;5;28;01mif\u001b[39;00m grouper \u001b[38;5;129;01mis\u001b[39;00m \u001b[38;5;28;01mNone\u001b[39;00m:\n\u001b[1;32m-> 1329\u001b[0m     grouper, exclusions, obj \u001b[38;5;241m=\u001b[39m get_grouper(\n\u001b[0;32m   1330\u001b[0m         obj,\n\u001b[0;32m   1331\u001b[0m         keys,\n\u001b[0;32m   1332\u001b[0m         axis\u001b[38;5;241m=\u001b[39maxis,\n\u001b[0;32m   1333\u001b[0m         level\u001b[38;5;241m=\u001b[39mlevel,\n\u001b[0;32m   1334\u001b[0m         sort\u001b[38;5;241m=\u001b[39msort,\n\u001b[0;32m   1335\u001b[0m         observed\u001b[38;5;241m=\u001b[39m\u001b[38;5;28;01mFalse\u001b[39;00m \u001b[38;5;28;01mif\u001b[39;00m observed \u001b[38;5;129;01mis\u001b[39;00m lib\u001b[38;5;241m.\u001b[39mno_default \u001b[38;5;28;01melse\u001b[39;00m observed,\n\u001b[0;32m   1336\u001b[0m         dropna\u001b[38;5;241m=\u001b[39m\u001b[38;5;28mself\u001b[39m\u001b[38;5;241m.\u001b[39mdropna,\n\u001b[0;32m   1337\u001b[0m     )\n\u001b[0;32m   1339\u001b[0m \u001b[38;5;28;01mif\u001b[39;00m observed \u001b[38;5;129;01mis\u001b[39;00m lib\u001b[38;5;241m.\u001b[39mno_default:\n\u001b[0;32m   1340\u001b[0m     \u001b[38;5;28;01mif\u001b[39;00m \u001b[38;5;28many\u001b[39m(ping\u001b[38;5;241m.\u001b[39m_passed_categorical \u001b[38;5;28;01mfor\u001b[39;00m ping \u001b[38;5;129;01min\u001b[39;00m grouper\u001b[38;5;241m.\u001b[39mgroupings):\n",
      "File \u001b[1;32m~\\anaconda3\\Lib\\site-packages\\pandas\\core\\groupby\\grouper.py:1043\u001b[0m, in \u001b[0;36mget_grouper\u001b[1;34m(obj, key, axis, level, sort, observed, validate, dropna)\u001b[0m\n\u001b[0;32m   1041\u001b[0m         in_axis, level, gpr \u001b[38;5;241m=\u001b[39m \u001b[38;5;28;01mFalse\u001b[39;00m, gpr, \u001b[38;5;28;01mNone\u001b[39;00m\n\u001b[0;32m   1042\u001b[0m     \u001b[38;5;28;01melse\u001b[39;00m:\n\u001b[1;32m-> 1043\u001b[0m         \u001b[38;5;28;01mraise\u001b[39;00m \u001b[38;5;167;01mKeyError\u001b[39;00m(gpr)\n\u001b[0;32m   1044\u001b[0m \u001b[38;5;28;01melif\u001b[39;00m \u001b[38;5;28misinstance\u001b[39m(gpr, Grouper) \u001b[38;5;129;01mand\u001b[39;00m gpr\u001b[38;5;241m.\u001b[39mkey \u001b[38;5;129;01mis\u001b[39;00m \u001b[38;5;129;01mnot\u001b[39;00m \u001b[38;5;28;01mNone\u001b[39;00m:\n\u001b[0;32m   1045\u001b[0m     \u001b[38;5;66;03m# Add key to exclusions\u001b[39;00m\n\u001b[0;32m   1046\u001b[0m     exclusions\u001b[38;5;241m.\u001b[39madd(gpr\u001b[38;5;241m.\u001b[39mkey)\n",
      "\u001b[1;31mKeyError\u001b[0m: 'weekday'"
     ]
    }
   ],
   "source": [
    "sales_by_time_of_day = df.groupby(['weekday', 'time_of_day'])['sales'].sum().reset_index()"
   ]
  },
  {
   "cell_type": "markdown",
   "id": "ce057e63-1bb6-4240-9054-b9a7a6a69908",
   "metadata": {},
   "source": [
    "## 14.Which of the customer types brings the most revenue?"
   ]
  },
  {
   "cell_type": "code",
   "execution_count": 53,
   "id": "96b97a72-7726-45ac-91da-e5f3e99b6fbf",
   "metadata": {},
   "outputs": [
    {
     "data": {
      "text/plain": [
       "Customer type\n",
       "Member    162094.529247\n",
       "Normal    154567.480494\n",
       "Name: Total, dtype: float64"
      ]
     },
     "execution_count": 53,
     "metadata": {},
     "output_type": "execute_result"
    }
   ],
   "source": [
    "df.groupby('Customer type')['Total'].sum()"
   ]
  },
  {
   "cell_type": "markdown",
   "id": "fd90efa7-993e-4e4d-ac11-303b53d041e7",
   "metadata": {},
   "source": [
    "## 15.Which city has the largest tax percent/ VAT (Value Added Tax)?"
   ]
  },
  {
   "cell_type": "code",
   "execution_count": 46,
   "id": "6d2bd8cb-370c-4c16-a312-94bfee544ca3",
   "metadata": {},
   "outputs": [
    {
     "data": {
      "text/plain": [
       "'Yangon'"
      ]
     },
     "execution_count": 46,
     "metadata": {},
     "output_type": "execute_result"
    }
   ],
   "source": [
    "df['City'].loc[df['City'].idxmax()]"
   ]
  },
  {
   "cell_type": "markdown",
   "id": "7c72b029-1926-4e8c-abbb-354a8db56518",
   "metadata": {},
   "source": [
    "## 16.Which customer type pays the most in VAT? "
   ]
  },
  {
   "cell_type": "code",
   "execution_count": null,
   "id": "6b894e08-346e-42a2-9ca4-2373ea75ebd7",
   "metadata": {},
   "outputs": [],
   "source": []
  },
  {
   "cell_type": "markdown",
   "id": "982bbfaa-ea0b-4c4f-9aed-a6eba41d9933",
   "metadata": {},
   "source": [
    "## 17.How many unique customer types does the data have?"
   ]
  },
  {
   "cell_type": "code",
   "execution_count": 57,
   "id": "c425e16f-a5ca-473f-adc7-ceb58f43c25b",
   "metadata": {},
   "outputs": [
    {
     "data": {
      "text/plain": [
       "2"
      ]
     },
     "execution_count": 57,
     "metadata": {},
     "output_type": "execute_result"
    }
   ],
   "source": [
    "df['Customer type'].nunique()\n"
   ]
  },
  {
   "cell_type": "markdown",
   "id": "d8628157-aa50-41a7-a148-a4c405efc9c4",
   "metadata": {},
   "source": [
    "## 18.How many unique payment methods does the data have?"
   ]
  },
  {
   "cell_type": "code",
   "execution_count": 59,
   "id": "9baa89ce-bd63-4aac-91e8-5ca56ed8d0d8",
   "metadata": {},
   "outputs": [
    {
     "data": {
      "text/plain": [
       "3"
      ]
     },
     "execution_count": 59,
     "metadata": {},
     "output_type": "execute_result"
    }
   ],
   "source": [
    "df['Payment'].nunique()"
   ]
  },
  {
   "cell_type": "markdown",
   "id": "653ea5c4-7ac6-4266-8597-35344cffb996",
   "metadata": {},
   "source": [
    "## 19.What is the most common customer type?"
   ]
  },
  {
   "cell_type": "code",
   "execution_count": 64,
   "id": "af5ba532-5b61-405c-95eb-83f492baeea3",
   "metadata": {},
   "outputs": [
    {
     "data": {
      "text/plain": [
       "'Member'"
      ]
     },
     "execution_count": 64,
     "metadata": {},
     "output_type": "execute_result"
    }
   ],
   "source": [
    "df['Customer type'].value_counts().idxmax()\n"
   ]
  },
  {
   "cell_type": "markdown",
   "id": "9a637829-e22e-40bb-8115-1ca30f28e3f8",
   "metadata": {},
   "source": [
    "## 20.Which customer type buys the most?"
   ]
  },
  {
   "cell_type": "code",
   "execution_count": 69,
   "id": "dea61488-796f-40f4-9b1e-3e4d7b2c69db",
   "metadata": {},
   "outputs": [
    {
     "data": {
      "text/plain": [
       "Customer type    1\n",
       "Quantity         0\n",
       "dtype: int64"
      ]
     },
     "execution_count": 69,
     "metadata": {},
     "output_type": "execute_result"
    }
   ],
   "source": [
    "df.groupby('Customer type')['Quantity'].sum().reset_index().idxmax()"
   ]
  },
  {
   "cell_type": "markdown",
   "id": "132afd36-9ff5-4d41-9a87-6d57d215cf5a",
   "metadata": {},
   "source": [
    "## 21.What is the gender of most of the customers?"
   ]
  },
  {
   "cell_type": "code",
   "execution_count": 70,
   "id": "4f8230c6-73c4-4ef5-8c86-d42bd43e76db",
   "metadata": {},
   "outputs": [
    {
     "data": {
      "text/plain": [
       "'Female'"
      ]
     },
     "execution_count": 70,
     "metadata": {},
     "output_type": "execute_result"
    }
   ],
   "source": [
    "df['Gender'].value_counts().idxmax()"
   ]
  },
  {
   "cell_type": "markdown",
   "id": "0d61cddc-fbaa-40cf-b3c6-7c5106e0f38c",
   "metadata": {},
   "source": [
    "## 22.What is the gender distribution per branch?"
   ]
  },
  {
   "cell_type": "code",
   "execution_count": 76,
   "id": "64e99218-1c53-4766-b6d6-dcf8edc42f4f",
   "metadata": {},
   "outputs": [
    {
     "data": {
      "text/plain": [
       "Branch  Gender\n",
       "A       Male      179\n",
       "        Female    161\n",
       "B       Male      170\n",
       "        Female    162\n",
       "C       Female    178\n",
       "        Male      150\n",
       "Name: count, dtype: int64"
      ]
     },
     "execution_count": 76,
     "metadata": {},
     "output_type": "execute_result"
    }
   ],
   "source": [
    "df.groupby('Branch')['Gender'].value_counts()"
   ]
  },
  {
   "cell_type": "markdown",
   "id": "bf5cc7b2-be1c-4bec-ab4d-8457e4ef0784",
   "metadata": {},
   "source": [
    "## 23.Which time of the day do customers give most ratings?"
   ]
  },
  {
   "cell_type": "code",
   "execution_count": 144,
   "id": "3371e072-3134-43a4-847c-f136ef80bb95",
   "metadata": {},
   "outputs": [
    {
     "name": "stderr",
     "output_type": "stream",
     "text": [
      "C:\\Users\\wwwja\\AppData\\Local\\Temp\\ipykernel_11376\\1140871329.py:1: UserWarning: Could not infer format, so each element will be parsed individually, falling back to `dateutil`. To ensure parsing is consistent and as-expected, please specify a format.\n",
      "  df['timestamp'] = pd.to_datetime(df['Time'])\n"
     ]
    },
    {
     "data": {
      "text/plain": [
       "19"
      ]
     },
     "execution_count": 144,
     "metadata": {},
     "output_type": "execute_result"
    }
   ],
   "source": [
    "df['timestamp'] = pd.to_datetime(df['Time'])\n",
    "df['Hour_of_day'] = df['timestamp'].dt.hour\n",
    "df.groupby('Hour_of_day')['Rating'].count().idxmax()\n"
   ]
  },
  {
   "cell_type": "markdown",
   "id": "208fcd59-edbf-43a6-a111-2db5b9940f3f",
   "metadata": {},
   "source": [
    "## 24.Which time of the day do customers give most ratings per branch?"
   ]
  },
  {
   "cell_type": "code",
   "execution_count": 110,
   "id": "a723d804-d9e4-40d9-91d7-51f9d8f70a4b",
   "metadata": {},
   "outputs": [
    {
     "data": {
      "text/plain": [
       "('B', 19)"
      ]
     },
     "execution_count": 110,
     "metadata": {},
     "output_type": "execute_result"
    }
   ],
   "source": [
    "df['Hour_of_day'] = df['timestamp'].dt.hour\n",
    "df.groupby(['Branch','Hour_of_day'])['Rating'].count().idxmax()\n"
   ]
  },
  {
   "cell_type": "markdown",
   "id": "7dd207e8-3366-41a0-b67f-6e1aa62217b9",
   "metadata": {},
   "source": [
    "## 25.Which day fo the week has the best avg ratings?"
   ]
  },
  {
   "cell_type": "code",
   "execution_count": 142,
   "id": "3d886978-7a39-48a4-b562-641cb0079f7d",
   "metadata": {},
   "outputs": [
    {
     "data": {
      "text/plain": [
       "'Monday'"
      ]
     },
     "execution_count": 142,
     "metadata": {},
     "output_type": "execute_result"
    }
   ],
   "source": [
    "df['week']=pd.to_datetime(df['Date'])\n",
    "df['Weekname'] = df['week'].dt.day_name()\n",
    "df.groupby('Weekname')['Rating'].mean().idxmax()\n"
   ]
  },
  {
   "cell_type": "markdown",
   "id": "eea0fd22-e454-4127-b394-fd6e088546f7",
   "metadata": {},
   "source": [
    "## 26.Which day of the week has the best average ratings per branch?"
   ]
  },
  {
   "cell_type": "code",
   "execution_count": 143,
   "id": "ec5c1d76-905d-44a6-8525-0fef761aad64",
   "metadata": {},
   "outputs": [
    {
     "data": {
      "text/plain": [
       "('B', 'Monday')"
      ]
     },
     "execution_count": 143,
     "metadata": {},
     "output_type": "execute_result"
    }
   ],
   "source": [
    "df['week']=pd.to_datetime(df['Date'])\n",
    "df['Weekname'] = df['week'].dt.day_name()\n",
    "df.groupby(['Branch','Weekname'])['Rating'].mean().idxmax()\n"
   ]
  },
  {
   "cell_type": "code",
   "execution_count": null,
   "id": "4b258ddf-0aee-4e22-92ed-07759a034d18",
   "metadata": {},
   "outputs": [],
   "source": []
  }
 ],
 "metadata": {
  "kernelspec": {
   "display_name": "Python 3 (ipykernel)",
   "language": "python",
   "name": "python3"
  },
  "language_info": {
   "codemirror_mode": {
    "name": "ipython",
    "version": 3
   },
   "file_extension": ".py",
   "mimetype": "text/x-python",
   "name": "python",
   "nbconvert_exporter": "python",
   "pygments_lexer": "ipython3",
   "version": "3.12.7"
  }
 },
 "nbformat": 4,
 "nbformat_minor": 5
}
